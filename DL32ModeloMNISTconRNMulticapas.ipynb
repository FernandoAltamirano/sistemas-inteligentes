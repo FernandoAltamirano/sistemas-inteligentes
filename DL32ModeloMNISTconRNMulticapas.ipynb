{
  "nbformat": 4,
  "nbformat_minor": 0,
  "metadata": {
    "colab": {
      "name": "DL32ModeloMNISTconRNMulticapas.ipynb",
      "provenance": [],
      "include_colab_link": true
    },
    "kernelspec": {
      "name": "python3",
      "display_name": "Python 3"
    },
    "language_info": {
      "name": "python"
    }
  },
  "cells": [
    {
      "cell_type": "markdown",
      "metadata": {
        "id": "view-in-github",
        "colab_type": "text"
      },
      "source": [
        "<a href=\"https://colab.research.google.com/github/FernandoAltamirano/sistemas-inteligentes/blob/main/DL32ModeloMNISTconRNMulticapas.ipynb\" target=\"_parent\"><img src=\"https://colab.research.google.com/assets/colab-badge.svg\" alt=\"Open In Colab\"/></a>"
      ]
    },
    {
      "cell_type": "markdown",
      "source": [
        "# Altamirano Alca Fernando - 18200055"
      ],
      "metadata": {
        "id": "rLG6g3p8pLTi"
      }
    },
    {
      "cell_type": "markdown",
      "source": [
        "# Modelo Base Multicapa para el dataset MNIST"
      ],
      "metadata": {
        "id": "tAhVfEGFdrMJ"
      }
    },
    {
      "cell_type": "code",
      "execution_count": 91,
      "metadata": {
        "id": "b9uXTGX3dX9h"
      },
      "outputs": [],
      "source": [
        "from keras.datasets import fashion_mnist\n",
        "from keras.models import Sequential\n",
        "from keras.layers import Dense\n",
        "from keras.utils import np_utils"
      ]
    },
    {
      "cell_type": "markdown",
      "source": [
        "Cargar los conjuntos de datos MNIST"
      ],
      "metadata": {
        "id": "C0FWXlGyeSBc"
      }
    },
    {
      "cell_type": "code",
      "source": [
        "(X_train, y_train), (X_test, y_test) = fashion_mnist.load_data()"
      ],
      "metadata": {
        "id": "b7EMSrXueW1r"
      },
      "execution_count": 92,
      "outputs": []
    },
    {
      "cell_type": "markdown",
      "source": [
        "Aplanar las imágenes de 28x28 a vectores de 784 para cada imagen"
      ],
      "metadata": {
        "id": "LKtWPv-PexA3"
      }
    },
    {
      "cell_type": "code",
      "source": [
        "num_pixeles = X_train.shape[1]*X_train.shape[2]\n",
        "X_train = X_train.reshape((X_train.shape[0],num_pixeles)).astype('float32')\n",
        "X_test = X_test.reshape((X_test.shape[0],num_pixeles)).astype('float32')"
      ],
      "metadata": {
        "id": "-L-iCyDdemOw"
      },
      "execution_count": 93,
      "outputs": []
    },
    {
      "cell_type": "markdown",
      "source": [
        "Normalizar las entradas que están entre 0 a 255 a valores entre 0 a 1"
      ],
      "metadata": {
        "id": "6dz6Rkllg7DS"
      }
    },
    {
      "cell_type": "code",
      "source": [
        "X_train = X_train/255"
      ],
      "metadata": {
        "id": "DpiS7Tsqgli_"
      },
      "execution_count": 94,
      "outputs": []
    },
    {
      "cell_type": "code",
      "source": [
        "X_test = X_test/255"
      ],
      "metadata": {
        "id": "KP8duRh5hYI_"
      },
      "execution_count": 95,
      "outputs": []
    },
    {
      "cell_type": "markdown",
      "source": [
        "Codificar las salidas a códigos one hot"
      ],
      "metadata": {
        "id": "NMPUV4J0hruv"
      }
    },
    {
      "cell_type": "code",
      "source": [
        "print(y_train[0])\n",
        "print(y_test[0])"
      ],
      "metadata": {
        "colab": {
          "base_uri": "https://localhost:8080/",
          "height": 0
        },
        "id": "iq0DvzSqh1v2",
        "outputId": "157c8f02-cb6f-4c9c-f0c8-420dfdaf1a5a"
      },
      "execution_count": 96,
      "outputs": [
        {
          "output_type": "stream",
          "name": "stdout",
          "text": [
            "9\n",
            "9\n"
          ]
        }
      ]
    },
    {
      "cell_type": "code",
      "source": [
        "y_train = np_utils.to_categorical(y_train)\n",
        "y_test = np_utils.to_categorical(y_test)"
      ],
      "metadata": {
        "id": "O79S4nvoh9dH"
      },
      "execution_count": 97,
      "outputs": []
    },
    {
      "cell_type": "code",
      "source": [
        "print(y_train[0])\n",
        "print(y_test[0])"
      ],
      "metadata": {
        "colab": {
          "base_uri": "https://localhost:8080/",
          "height": 0
        },
        "id": "qDfKI-_uifKO",
        "outputId": "0706bb50-cf63-48e4-b572-03fc327da27d"
      },
      "execution_count": 98,
      "outputs": [
        {
          "output_type": "stream",
          "name": "stdout",
          "text": [
            "[0. 0. 0. 0. 0. 0. 0. 0. 0. 1.]\n",
            "[0. 0. 0. 0. 0. 0. 0. 0. 0. 1.]\n"
          ]
        }
      ]
    },
    {
      "cell_type": "code",
      "source": [
        "num_clases = y_train.shape[1]"
      ],
      "metadata": {
        "id": "TM4sPuNLixeZ"
      },
      "execution_count": 99,
      "outputs": []
    },
    {
      "cell_type": "markdown",
      "source": [
        "Define el modelo base"
      ],
      "metadata": {
        "id": "Iuggnmy3jMWJ"
      }
    },
    {
      "cell_type": "code",
      "source": [
        "def modelo_base():\n",
        "  # Crear el modelo\n",
        "  modelo = Sequential()\n",
        "  modelo.add(Dense(num_pixeles, input_dim = num_pixeles, activation='relu'))\n",
        "  modelo.add(Dense(num_clases, activation='softmax'))\n",
        "  # Compilar el modelo\n",
        "  modelo.compile(loss='categorical_crossentropy',optimizer='adam',\n",
        "                 metrics=['accuracy'])\n",
        "  return modelo"
      ],
      "metadata": {
        "id": "_WsmSg0XjGSd"
      },
      "execution_count": 100,
      "outputs": []
    },
    {
      "cell_type": "markdown",
      "source": [
        "Construir el modelo"
      ],
      "metadata": {
        "id": "iL09JSnfkuJV"
      }
    },
    {
      "cell_type": "code",
      "source": [
        "modelo = modelo_base()"
      ],
      "metadata": {
        "id": "bWVFb7Ulk3X9"
      },
      "execution_count": 101,
      "outputs": []
    },
    {
      "cell_type": "markdown",
      "source": [
        "Entrenar el modelo"
      ],
      "metadata": {
        "id": "EGPUq9m_k-3U"
      }
    },
    {
      "cell_type": "code",
      "source": [
        "modelo.fit(X_train,y_train,validation_data=(X_test,y_test),\n",
        "           epochs=15,batch_size=100,verbose=2)"
      ],
      "metadata": {
        "colab": {
          "base_uri": "https://localhost:8080/",
          "height": 0
        },
        "id": "Y457euz9lCkt",
        "outputId": "8a11f2bf-3ac8-4251-e44a-5c9b05633ce5"
      },
      "execution_count": 102,
      "outputs": [
        {
          "output_type": "stream",
          "name": "stdout",
          "text": [
            "Epoch 1/15\n",
            "600/600 - 7s - loss: 0.4901 - accuracy: 0.8269 - val_loss: 0.4263 - val_accuracy: 0.8446 - 7s/epoch - 11ms/step\n",
            "Epoch 2/15\n",
            "600/600 - 6s - loss: 0.3626 - accuracy: 0.8680 - val_loss: 0.3774 - val_accuracy: 0.8620 - 6s/epoch - 10ms/step\n",
            "Epoch 3/15\n",
            "600/600 - 6s - loss: 0.3218 - accuracy: 0.8829 - val_loss: 0.3581 - val_accuracy: 0.8695 - 6s/epoch - 10ms/step\n",
            "Epoch 4/15\n",
            "600/600 - 6s - loss: 0.2991 - accuracy: 0.8901 - val_loss: 0.3385 - val_accuracy: 0.8767 - 6s/epoch - 10ms/step\n",
            "Epoch 5/15\n",
            "600/600 - 6s - loss: 0.2787 - accuracy: 0.8971 - val_loss: 0.3427 - val_accuracy: 0.8752 - 6s/epoch - 10ms/step\n",
            "Epoch 6/15\n",
            "600/600 - 6s - loss: 0.2635 - accuracy: 0.9017 - val_loss: 0.3279 - val_accuracy: 0.8809 - 6s/epoch - 10ms/step\n",
            "Epoch 7/15\n",
            "600/600 - 6s - loss: 0.2510 - accuracy: 0.9066 - val_loss: 0.3175 - val_accuracy: 0.8869 - 6s/epoch - 10ms/step\n",
            "Epoch 8/15\n",
            "600/600 - 6s - loss: 0.2400 - accuracy: 0.9112 - val_loss: 0.3290 - val_accuracy: 0.8874 - 6s/epoch - 11ms/step\n",
            "Epoch 9/15\n",
            "600/600 - 6s - loss: 0.2283 - accuracy: 0.9152 - val_loss: 0.3164 - val_accuracy: 0.8893 - 6s/epoch - 11ms/step\n",
            "Epoch 10/15\n",
            "600/600 - 6s - loss: 0.2195 - accuracy: 0.9171 - val_loss: 0.3281 - val_accuracy: 0.8842 - 6s/epoch - 10ms/step\n",
            "Epoch 11/15\n",
            "600/600 - 6s - loss: 0.2113 - accuracy: 0.9210 - val_loss: 0.3359 - val_accuracy: 0.8866 - 6s/epoch - 10ms/step\n",
            "Epoch 12/15\n",
            "600/600 - 6s - loss: 0.2013 - accuracy: 0.9247 - val_loss: 0.3378 - val_accuracy: 0.8830 - 6s/epoch - 10ms/step\n",
            "Epoch 13/15\n",
            "600/600 - 6s - loss: 0.1968 - accuracy: 0.9264 - val_loss: 0.3093 - val_accuracy: 0.8928 - 6s/epoch - 11ms/step\n",
            "Epoch 14/15\n",
            "600/600 - 6s - loss: 0.1859 - accuracy: 0.9304 - val_loss: 0.3230 - val_accuracy: 0.8883 - 6s/epoch - 11ms/step\n",
            "Epoch 15/15\n",
            "600/600 - 6s - loss: 0.1784 - accuracy: 0.9329 - val_loss: 0.3169 - val_accuracy: 0.8949 - 6s/epoch - 10ms/step\n"
          ]
        },
        {
          "output_type": "execute_result",
          "data": {
            "text/plain": [
              "<keras.callbacks.History at 0x7fd885f17690>"
            ]
          },
          "metadata": {},
          "execution_count": 102
        }
      ]
    },
    {
      "cell_type": "markdown",
      "source": [
        "Evaluación final del modelo"
      ],
      "metadata": {
        "id": "9MQ8dZipmAjE"
      }
    },
    {
      "cell_type": "code",
      "source": [
        "puntuacion = modelo.evaluate(X_test,y_test,verbose=0)\n",
        "print('Error del modelo base: %.2f%%' % (100 - puntuacion[1]*100))"
      ],
      "metadata": {
        "colab": {
          "base_uri": "https://localhost:8080/",
          "height": 0
        },
        "id": "UAzQfQRYl_Ct",
        "outputId": "e418d2f8-f220-451f-df37-b8c320ae65e6"
      },
      "execution_count": 103,
      "outputs": [
        {
          "output_type": "stream",
          "name": "stdout",
          "text": [
            "Error del modelo base: 10.51%\n"
          ]
        }
      ]
    }
  ]
}