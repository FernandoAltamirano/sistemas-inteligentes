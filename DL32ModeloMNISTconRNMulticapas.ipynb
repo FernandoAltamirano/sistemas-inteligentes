{
  "nbformat": 4,
  "nbformat_minor": 0,
  "metadata": {
    "colab": {
      "name": "DL32ModeloMNISTconRNMulticapas.ipynb",
      "provenance": [],
      "include_colab_link": true
    },
    "kernelspec": {
      "name": "python3",
      "display_name": "Python 3"
    },
    "language_info": {
      "name": "python"
    }
  },
  "cells": [
    {
      "cell_type": "markdown",
      "metadata": {
        "id": "view-in-github",
        "colab_type": "text"
      },
      "source": [
        "<a href=\"https://colab.research.google.com/github/FernandoAltamirano/sistemas-inteligentes/blob/main/DL32ModeloMNISTconRNMulticapas.ipynb\" target=\"_parent\"><img src=\"https://colab.research.google.com/assets/colab-badge.svg\" alt=\"Open In Colab\"/></a>"
      ]
    },
    {
      "cell_type": "markdown",
      "source": [
        "# Altamirano Alca Fernando Eli - 18200055"
      ],
      "metadata": {
        "id": "Gx-270rUWbHT"
      }
    },
    {
      "cell_type": "markdown",
      "source": [
        "# Modelo Base Multicapa para el dataset MNIST"
      ],
      "metadata": {
        "id": "tAhVfEGFdrMJ"
      }
    },
    {
      "cell_type": "code",
      "execution_count": null,
      "metadata": {
        "id": "b9uXTGX3dX9h"
      },
      "outputs": [],
      "source": [
        "from keras.datasets import mnist\n",
        "from keras.models import Sequential\n",
        "from keras.layers import Dense\n",
        "from keras.utils import np_utils"
      ]
    },
    {
      "cell_type": "markdown",
      "source": [
        "Cargar los conjuntos de datos MNIST"
      ],
      "metadata": {
        "id": "C0FWXlGyeSBc"
      }
    },
    {
      "cell_type": "code",
      "source": [
        "(X_train, y_train), (X_test, y_test) = mnist.load_data()"
      ],
      "metadata": {
        "id": "b7EMSrXueW1r",
        "colab": {
          "base_uri": "https://localhost:8080/"
        },
        "outputId": "116a5a7f-9697-40ad-9cb8-02f38825f273"
      },
      "execution_count": null,
      "outputs": [
        {
          "output_type": "stream",
          "name": "stdout",
          "text": [
            "Downloading data from https://storage.googleapis.com/tensorflow/tf-keras-datasets/mnist.npz\n",
            "11493376/11490434 [==============================] - 0s 0us/step\n",
            "11501568/11490434 [==============================] - 0s 0us/step\n"
          ]
        }
      ]
    },
    {
      "cell_type": "markdown",
      "source": [
        "Aplanar las imágenes de 28x28 a vectores de 784 para cada imagen"
      ],
      "metadata": {
        "id": "LKtWPv-PexA3"
      }
    },
    {
      "cell_type": "code",
      "source": [
        "num_pixeles = X_train.shape[1]*X_train.shape[2]\n",
        "X_train = X_train.reshape((X_train.shape[0],num_pixeles)).astype('float32')\n",
        "X_test = X_test.reshape((X_test.shape[0],num_pixeles)).astype('float32')"
      ],
      "metadata": {
        "id": "-L-iCyDdemOw"
      },
      "execution_count": null,
      "outputs": []
    },
    {
      "cell_type": "markdown",
      "source": [
        "Normalizar las entradas que están entre 0 a 255 a valores entre 0 a 1"
      ],
      "metadata": {
        "id": "6dz6Rkllg7DS"
      }
    },
    {
      "cell_type": "code",
      "source": [
        "X_train = X_train/255"
      ],
      "metadata": {
        "id": "DpiS7Tsqgli_"
      },
      "execution_count": null,
      "outputs": []
    },
    {
      "cell_type": "code",
      "source": [
        "X_test = X_test/255"
      ],
      "metadata": {
        "id": "KP8duRh5hYI_"
      },
      "execution_count": null,
      "outputs": []
    },
    {
      "cell_type": "markdown",
      "source": [
        "Codificar las salidas a códigos one hot"
      ],
      "metadata": {
        "id": "NMPUV4J0hruv"
      }
    },
    {
      "cell_type": "code",
      "source": [
        "print(y_train[0])\n",
        "print(y_test[0])"
      ],
      "metadata": {
        "colab": {
          "base_uri": "https://localhost:8080/"
        },
        "id": "iq0DvzSqh1v2",
        "outputId": "810b76e2-4db7-48c0-ca7b-2adf839c849e"
      },
      "execution_count": null,
      "outputs": [
        {
          "output_type": "stream",
          "name": "stdout",
          "text": [
            "5\n",
            "7\n"
          ]
        }
      ]
    },
    {
      "cell_type": "code",
      "source": [
        "y_train = np_utils.to_categorical(y_train)\n",
        "y_test = np_utils.to_categorical(y_test)"
      ],
      "metadata": {
        "id": "O79S4nvoh9dH"
      },
      "execution_count": null,
      "outputs": []
    },
    {
      "cell_type": "code",
      "source": [
        "print(y_train[0])\n",
        "print(y_test[0])"
      ],
      "metadata": {
        "colab": {
          "base_uri": "https://localhost:8080/"
        },
        "id": "qDfKI-_uifKO",
        "outputId": "755c1c23-ba60-4097-9495-35eba188a8a1"
      },
      "execution_count": null,
      "outputs": [
        {
          "output_type": "stream",
          "name": "stdout",
          "text": [
            "[0. 0. 0. 0. 0. 1. 0. 0. 0. 0.]\n",
            "[0. 0. 0. 0. 0. 0. 0. 1. 0. 0.]\n"
          ]
        }
      ]
    },
    {
      "cell_type": "code",
      "source": [
        "num_clases = y_train.shape[1]"
      ],
      "metadata": {
        "id": "TM4sPuNLixeZ"
      },
      "execution_count": null,
      "outputs": []
    },
    {
      "cell_type": "markdown",
      "source": [
        "Define el modelo base"
      ],
      "metadata": {
        "id": "Iuggnmy3jMWJ"
      }
    },
    {
      "cell_type": "code",
      "source": [
        "def modelo_base():\n",
        "  # Crear el modelo\n",
        "  modelo = Sequential()\n",
        "  modelo.add(Dense(num_pixeles, input_dim = num_pixeles, activation='relu'))\n",
        "  modelo.add(Dense(num_clases, activation='softmax'))\n",
        "  # Compilar el modelo\n",
        "  modelo.compile(loss='categorical_crossentropy',optimizer='adam',\n",
        "                 metrics=['accuracy'])\n",
        "  return modelo"
      ],
      "metadata": {
        "id": "_WsmSg0XjGSd"
      },
      "execution_count": null,
      "outputs": []
    },
    {
      "cell_type": "markdown",
      "source": [
        "Construir el modelo"
      ],
      "metadata": {
        "id": "iL09JSnfkuJV"
      }
    },
    {
      "cell_type": "code",
      "source": [
        "modelo = modelo_base()"
      ],
      "metadata": {
        "id": "bWVFb7Ulk3X9"
      },
      "execution_count": null,
      "outputs": []
    },
    {
      "cell_type": "markdown",
      "source": [
        "Entrenar el modelo"
      ],
      "metadata": {
        "id": "EGPUq9m_k-3U"
      }
    },
    {
      "cell_type": "code",
      "source": [
        "modelo.fit(X_train,y_train,validation_data=(X_test,y_test),\n",
        "           epochs=20,batch_size=150,verbose=2)"
      ],
      "metadata": {
        "colab": {
          "base_uri": "https://localhost:8080/"
        },
        "id": "Y457euz9lCkt",
        "outputId": "5460c222-7f14-4626-a0a5-54ed5c95381b"
      },
      "execution_count": null,
      "outputs": [
        {
          "output_type": "stream",
          "name": "stdout",
          "text": [
            "Epoch 1/20\n",
            "400/400 - 6s - loss: 0.2579 - accuracy: 0.9262 - val_loss: 0.1391 - val_accuracy: 0.9589 - 6s/epoch - 14ms/step\n",
            "Epoch 2/20\n",
            "400/400 - 5s - loss: 0.1008 - accuracy: 0.9704 - val_loss: 0.0852 - val_accuracy: 0.9733 - 5s/epoch - 12ms/step\n",
            "Epoch 3/20\n",
            "400/400 - 5s - loss: 0.0649 - accuracy: 0.9804 - val_loss: 0.0687 - val_accuracy: 0.9781 - 5s/epoch - 12ms/step\n",
            "Epoch 4/20\n",
            "400/400 - 5s - loss: 0.0450 - accuracy: 0.9866 - val_loss: 0.0633 - val_accuracy: 0.9800 - 5s/epoch - 12ms/step\n",
            "Epoch 5/20\n",
            "400/400 - 5s - loss: 0.0320 - accuracy: 0.9910 - val_loss: 0.0613 - val_accuracy: 0.9812 - 5s/epoch - 12ms/step\n",
            "Epoch 6/20\n",
            "400/400 - 5s - loss: 0.0228 - accuracy: 0.9940 - val_loss: 0.0638 - val_accuracy: 0.9809 - 5s/epoch - 12ms/step\n",
            "Epoch 7/20\n",
            "400/400 - 5s - loss: 0.0179 - accuracy: 0.9950 - val_loss: 0.0600 - val_accuracy: 0.9819 - 5s/epoch - 12ms/step\n",
            "Epoch 8/20\n",
            "400/400 - 5s - loss: 0.0127 - accuracy: 0.9968 - val_loss: 0.0743 - val_accuracy: 0.9766 - 5s/epoch - 12ms/step\n",
            "Epoch 9/20\n",
            "400/400 - 5s - loss: 0.0111 - accuracy: 0.9969 - val_loss: 0.0595 - val_accuracy: 0.9829 - 5s/epoch - 12ms/step\n",
            "Epoch 10/20\n",
            "400/400 - 5s - loss: 0.0075 - accuracy: 0.9983 - val_loss: 0.0638 - val_accuracy: 0.9814 - 5s/epoch - 13ms/step\n",
            "Epoch 11/20\n",
            "400/400 - 5s - loss: 0.0066 - accuracy: 0.9985 - val_loss: 0.0688 - val_accuracy: 0.9807 - 5s/epoch - 12ms/step\n",
            "Epoch 12/20\n",
            "400/400 - 5s - loss: 0.0038 - accuracy: 0.9994 - val_loss: 0.0710 - val_accuracy: 0.9809 - 5s/epoch - 12ms/step\n",
            "Epoch 13/20\n",
            "400/400 - 5s - loss: 0.0076 - accuracy: 0.9979 - val_loss: 0.0741 - val_accuracy: 0.9812 - 5s/epoch - 12ms/step\n",
            "Epoch 14/20\n",
            "400/400 - 5s - loss: 0.0070 - accuracy: 0.9978 - val_loss: 0.0820 - val_accuracy: 0.9800 - 5s/epoch - 12ms/step\n",
            "Epoch 15/20\n",
            "400/400 - 5s - loss: 0.0052 - accuracy: 0.9988 - val_loss: 0.0706 - val_accuracy: 0.9809 - 5s/epoch - 12ms/step\n",
            "Epoch 16/20\n",
            "400/400 - 5s - loss: 0.0033 - accuracy: 0.9992 - val_loss: 0.0755 - val_accuracy: 0.9818 - 5s/epoch - 12ms/step\n",
            "Epoch 17/20\n",
            "400/400 - 5s - loss: 0.0041 - accuracy: 0.9988 - val_loss: 0.0890 - val_accuracy: 0.9798 - 5s/epoch - 12ms/step\n",
            "Epoch 18/20\n",
            "400/400 - 5s - loss: 0.0065 - accuracy: 0.9980 - val_loss: 0.1084 - val_accuracy: 0.9756 - 5s/epoch - 12ms/step\n",
            "Epoch 19/20\n",
            "400/400 - 5s - loss: 0.0064 - accuracy: 0.9981 - val_loss: 0.0705 - val_accuracy: 0.9828 - 5s/epoch - 12ms/step\n",
            "Epoch 20/20\n",
            "400/400 - 5s - loss: 0.0015 - accuracy: 0.9997 - val_loss: 0.0651 - val_accuracy: 0.9856 - 5s/epoch - 12ms/step\n"
          ]
        },
        {
          "output_type": "execute_result",
          "data": {
            "text/plain": [
              "<keras.callbacks.History at 0x7fe95c41c790>"
            ]
          },
          "metadata": {},
          "execution_count": 12
        }
      ]
    },
    {
      "cell_type": "markdown",
      "source": [
        "Evaluación final del modelo"
      ],
      "metadata": {
        "id": "9MQ8dZipmAjE"
      }
    },
    {
      "cell_type": "code",
      "source": [
        "puntuacion = modelo.evaluate(X_test,y_test,verbose=0)\n",
        "print('Error del modelo base: %.2f%%' % (100 - puntuacion[1]*100))"
      ],
      "metadata": {
        "colab": {
          "base_uri": "https://localhost:8080/"
        },
        "id": "UAzQfQRYl_Ct",
        "outputId": "62559e54-c95b-4853-be7a-8cdd3b5f7a6d"
      },
      "execution_count": null,
      "outputs": [
        {
          "output_type": "stream",
          "name": "stdout",
          "text": [
            "Error del modelo base: 1.44%\n"
          ]
        }
      ]
    }
  ]
}