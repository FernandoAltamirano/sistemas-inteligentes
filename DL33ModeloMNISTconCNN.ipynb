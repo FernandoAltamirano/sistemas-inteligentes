{
  "nbformat": 4,
  "nbformat_minor": 0,
  "metadata": {
    "colab": {
      "name": "DL33ModeloMNISTconCNN.ipynb",
      "provenance": [],
      "include_colab_link": true
    },
    "kernelspec": {
      "name": "python3",
      "display_name": "Python 3"
    },
    "language_info": {
      "name": "python"
    }
  },
  "cells": [
    {
      "cell_type": "markdown",
      "metadata": {
        "id": "view-in-github",
        "colab_type": "text"
      },
      "source": [
        "<a href=\"https://colab.research.google.com/github/FernandoAltamirano/sistemas-inteligentes/blob/main/DL33ModeloMNISTconCNN.ipynb\" target=\"_parent\"><img src=\"https://colab.research.google.com/assets/colab-badge.svg\" alt=\"Open In Colab\"/></a>"
      ]
    },
    {
      "cell_type": "markdown",
      "source": [
        "# Altamirano Alca Fernando - 18200055"
      ],
      "metadata": {
        "id": "pwtgvjrfbYau"
      }
    },
    {
      "cell_type": "markdown",
      "source": [
        "# Modelo CNN Simple para el dataset MNIST"
      ],
      "metadata": {
        "id": "tAhVfEGFdrMJ"
      }
    },
    {
      "cell_type": "code",
      "execution_count": 1,
      "metadata": {
        "id": "b9uXTGX3dX9h"
      },
      "outputs": [],
      "source": [
        "from keras.datasets import fashion_mnist\n",
        "from keras.models import Sequential\n",
        "from keras.layers import Dense\n",
        "from keras.layers import Dropout\n",
        "from keras.layers import Flatten\n",
        "from keras.layers.convolutional import Conv2D\n",
        "from keras.layers.convolutional import MaxPooling2D\n",
        "from keras.utils import np_utils"
      ]
    },
    {
      "cell_type": "markdown",
      "source": [
        "Cargar los conjuntos de datos MNIST"
      ],
      "metadata": {
        "id": "C0FWXlGyeSBc"
      }
    },
    {
      "cell_type": "code",
      "source": [
        "(X_train, y_train), (X_test, y_test) = fashion_mnist.load_data()"
      ],
      "metadata": {
        "id": "b7EMSrXueW1r",
        "colab": {
          "base_uri": "https://localhost:8080/"
        },
        "outputId": "e69585ca-45ee-4ca3-f366-4e294428c80c"
      },
      "execution_count": 2,
      "outputs": [
        {
          "output_type": "stream",
          "name": "stdout",
          "text": [
            "Downloading data from https://storage.googleapis.com/tensorflow/tf-keras-datasets/train-labels-idx1-ubyte.gz\n",
            "32768/29515 [=================================] - 0s 0us/step\n",
            "40960/29515 [=========================================] - 0s 0us/step\n",
            "Downloading data from https://storage.googleapis.com/tensorflow/tf-keras-datasets/train-images-idx3-ubyte.gz\n",
            "26427392/26421880 [==============================] - 0s 0us/step\n",
            "26435584/26421880 [==============================] - 0s 0us/step\n",
            "Downloading data from https://storage.googleapis.com/tensorflow/tf-keras-datasets/t10k-labels-idx1-ubyte.gz\n",
            "16384/5148 [===============================================================================================] - 0s 0us/step\n",
            "Downloading data from https://storage.googleapis.com/tensorflow/tf-keras-datasets/t10k-images-idx3-ubyte.gz\n",
            "4423680/4422102 [==============================] - 0s 0us/step\n",
            "4431872/4422102 [==============================] - 0s 0us/step\n"
          ]
        }
      ]
    },
    {
      "cell_type": "markdown",
      "source": [
        "Redimensionar las imágenes a [muestras][ancho][alto][canales]"
      ],
      "metadata": {
        "id": "LKtWPv-PexA3"
      }
    },
    {
      "cell_type": "code",
      "source": [
        "num_pixeles = X_train.shape[1]*X_train.shape[2]\n",
        "X_train = X_train.reshape((X_train.shape[0],28,28,1)).astype('float32')\n",
        "X_test = X_test.reshape((X_test.shape[0],28,28,1)).astype('float32')"
      ],
      "metadata": {
        "id": "-L-iCyDdemOw"
      },
      "execution_count": 3,
      "outputs": []
    },
    {
      "cell_type": "markdown",
      "source": [
        "Normalizar las entradas que están entre 0 a 255 a valores entre 0 a 1"
      ],
      "metadata": {
        "id": "6dz6Rkllg7DS"
      }
    },
    {
      "cell_type": "code",
      "source": [
        "X_train = X_train/255"
      ],
      "metadata": {
        "id": "DpiS7Tsqgli_"
      },
      "execution_count": 4,
      "outputs": []
    },
    {
      "cell_type": "code",
      "source": [
        "X_test = X_test/255"
      ],
      "metadata": {
        "id": "KP8duRh5hYI_"
      },
      "execution_count": 5,
      "outputs": []
    },
    {
      "cell_type": "markdown",
      "source": [
        "Codificar las salidas a códigos one hot"
      ],
      "metadata": {
        "id": "NMPUV4J0hruv"
      }
    },
    {
      "cell_type": "code",
      "source": [
        "print(y_train[0])\n",
        "print(y_test[0])"
      ],
      "metadata": {
        "colab": {
          "base_uri": "https://localhost:8080/"
        },
        "id": "iq0DvzSqh1v2",
        "outputId": "21d7fb2f-b763-4691-e060-d51eaf20b4fd"
      },
      "execution_count": 6,
      "outputs": [
        {
          "output_type": "stream",
          "name": "stdout",
          "text": [
            "9\n",
            "9\n"
          ]
        }
      ]
    },
    {
      "cell_type": "code",
      "source": [
        "y_train = np_utils.to_categorical(y_train)\n",
        "y_test = np_utils.to_categorical(y_test)"
      ],
      "metadata": {
        "id": "O79S4nvoh9dH"
      },
      "execution_count": 7,
      "outputs": []
    },
    {
      "cell_type": "code",
      "source": [
        "print(y_train[0])\n",
        "print(y_test[0])"
      ],
      "metadata": {
        "colab": {
          "base_uri": "https://localhost:8080/"
        },
        "id": "qDfKI-_uifKO",
        "outputId": "b68e8f9d-c1c9-4092-9572-8eaa50115a3a"
      },
      "execution_count": 8,
      "outputs": [
        {
          "output_type": "stream",
          "name": "stdout",
          "text": [
            "[0. 0. 0. 0. 0. 0. 0. 0. 0. 1.]\n",
            "[0. 0. 0. 0. 0. 0. 0. 0. 0. 1.]\n"
          ]
        }
      ]
    },
    {
      "cell_type": "code",
      "source": [
        "num_clases = y_train.shape[1]"
      ],
      "metadata": {
        "id": "TM4sPuNLixeZ"
      },
      "execution_count": 9,
      "outputs": []
    },
    {
      "cell_type": "code",
      "source": [
        "num_clases"
      ],
      "metadata": {
        "colab": {
          "base_uri": "https://localhost:8080/"
        },
        "id": "OdwqUTZKk37E",
        "outputId": "99cbfd86-82e0-4a5d-968d-fa19e06e4d49"
      },
      "execution_count": 10,
      "outputs": [
        {
          "output_type": "execute_result",
          "data": {
            "text/plain": [
              "10"
            ]
          },
          "metadata": {},
          "execution_count": 10
        }
      ]
    },
    {
      "cell_type": "markdown",
      "source": [
        "Define el modelo base"
      ],
      "metadata": {
        "id": "Iuggnmy3jMWJ"
      }
    },
    {
      "cell_type": "code",
      "source": [
        "def modelo_base():\n",
        "  # Crear el modelo\n",
        "  modelo = Sequential()\n",
        "  modelo.add(Conv2D(32,(5,5),input_shape=(28,28,1),activation='relu'))\n",
        "  modelo.add(MaxPooling2D())\n",
        "  modelo.add(Dropout(0.2))\n",
        "  modelo.add(Flatten())\n",
        "  modelo.add(Dense(num_clases, activation='softmax'))\n",
        "  # Compilar el modelo\n",
        "  modelo.compile(loss='categorical_crossentropy',optimizer='adam',\n",
        "                 metrics=['accuracy'])\n",
        "  return modelo"
      ],
      "metadata": {
        "id": "_WsmSg0XjGSd"
      },
      "execution_count": 11,
      "outputs": []
    },
    {
      "cell_type": "markdown",
      "source": [
        "Construir el modelo"
      ],
      "metadata": {
        "id": "iL09JSnfkuJV"
      }
    },
    {
      "cell_type": "code",
      "source": [
        "modelo = modelo_base()"
      ],
      "metadata": {
        "id": "bWVFb7Ulk3X9"
      },
      "execution_count": 12,
      "outputs": []
    },
    {
      "cell_type": "markdown",
      "source": [
        "Entrenar el modelo"
      ],
      "metadata": {
        "id": "EGPUq9m_k-3U"
      }
    },
    {
      "cell_type": "code",
      "source": [
        "modelo.fit(X_train,y_train,validation_data=(X_test,y_test),\n",
        "           epochs=20,batch_size=150)"
      ],
      "metadata": {
        "colab": {
          "base_uri": "https://localhost:8080/"
        },
        "id": "Y457euz9lCkt",
        "outputId": "e895bcb0-e164-4f82-82fa-9a97cb8d456e"
      },
      "execution_count": 13,
      "outputs": [
        {
          "output_type": "stream",
          "name": "stdout",
          "text": [
            "Epoch 1/20\n",
            "400/400 [==============================] - 28s 70ms/step - loss: 0.5782 - accuracy: 0.7984 - val_loss: 0.4446 - val_accuracy: 0.8453\n",
            "Epoch 2/20\n",
            "400/400 [==============================] - 28s 69ms/step - loss: 0.3918 - accuracy: 0.8632 - val_loss: 0.3880 - val_accuracy: 0.8626\n",
            "Epoch 3/20\n",
            "400/400 [==============================] - 27s 68ms/step - loss: 0.3527 - accuracy: 0.8778 - val_loss: 0.3489 - val_accuracy: 0.8799\n",
            "Epoch 4/20\n",
            "400/400 [==============================] - 26s 65ms/step - loss: 0.3272 - accuracy: 0.8853 - val_loss: 0.3329 - val_accuracy: 0.8848\n",
            "Epoch 5/20\n",
            "400/400 [==============================] - 26s 65ms/step - loss: 0.3101 - accuracy: 0.8905 - val_loss: 0.3193 - val_accuracy: 0.8902\n",
            "Epoch 6/20\n",
            "400/400 [==============================] - 26s 65ms/step - loss: 0.2963 - accuracy: 0.8961 - val_loss: 0.3158 - val_accuracy: 0.8914\n",
            "Epoch 7/20\n",
            "400/400 [==============================] - 26s 66ms/step - loss: 0.2865 - accuracy: 0.8987 - val_loss: 0.3014 - val_accuracy: 0.8956\n",
            "Epoch 8/20\n",
            "400/400 [==============================] - 26s 65ms/step - loss: 0.2748 - accuracy: 0.9028 - val_loss: 0.2941 - val_accuracy: 0.8974\n",
            "Epoch 9/20\n",
            "400/400 [==============================] - 25s 63ms/step - loss: 0.2675 - accuracy: 0.9054 - val_loss: 0.2855 - val_accuracy: 0.9010\n",
            "Epoch 10/20\n",
            "400/400 [==============================] - 25s 62ms/step - loss: 0.2612 - accuracy: 0.9063 - val_loss: 0.2849 - val_accuracy: 0.9017\n",
            "Epoch 11/20\n",
            "400/400 [==============================] - 25s 62ms/step - loss: 0.2534 - accuracy: 0.9098 - val_loss: 0.2768 - val_accuracy: 0.9018\n",
            "Epoch 12/20\n",
            "400/400 [==============================] - 25s 63ms/step - loss: 0.2470 - accuracy: 0.9125 - val_loss: 0.2721 - val_accuracy: 0.9040\n",
            "Epoch 13/20\n",
            "400/400 [==============================] - 25s 63ms/step - loss: 0.2425 - accuracy: 0.9132 - val_loss: 0.2713 - val_accuracy: 0.9047\n",
            "Epoch 14/20\n",
            "400/400 [==============================] - 25s 62ms/step - loss: 0.2368 - accuracy: 0.9155 - val_loss: 0.2861 - val_accuracy: 0.8994\n",
            "Epoch 15/20\n",
            "400/400 [==============================] - 25s 62ms/step - loss: 0.2322 - accuracy: 0.9170 - val_loss: 0.2692 - val_accuracy: 0.9022\n",
            "Epoch 16/20\n",
            "400/400 [==============================] - 25s 62ms/step - loss: 0.2262 - accuracy: 0.9186 - val_loss: 0.2644 - val_accuracy: 0.9068\n",
            "Epoch 17/20\n",
            "400/400 [==============================] - 25s 62ms/step - loss: 0.2232 - accuracy: 0.9190 - val_loss: 0.2658 - val_accuracy: 0.9066\n",
            "Epoch 18/20\n",
            "400/400 [==============================] - 25s 62ms/step - loss: 0.2212 - accuracy: 0.9204 - val_loss: 0.2626 - val_accuracy: 0.9095\n",
            "Epoch 19/20\n",
            "400/400 [==============================] - 25s 63ms/step - loss: 0.2166 - accuracy: 0.9212 - val_loss: 0.2669 - val_accuracy: 0.9064\n",
            "Epoch 20/20\n",
            "400/400 [==============================] - 25s 62ms/step - loss: 0.2132 - accuracy: 0.9229 - val_loss: 0.2654 - val_accuracy: 0.9061\n"
          ]
        },
        {
          "output_type": "execute_result",
          "data": {
            "text/plain": [
              "<keras.callbacks.History at 0x7f04fdafdc10>"
            ]
          },
          "metadata": {},
          "execution_count": 13
        }
      ]
    },
    {
      "cell_type": "markdown",
      "source": [
        "Evaluación final del modelo"
      ],
      "metadata": {
        "id": "9MQ8dZipmAjE"
      }
    },
    {
      "cell_type": "code",
      "source": [
        "puntuacion = modelo.evaluate(X_test,y_test,verbose=0)\n",
        "print('Error del modelo base: %.2f%%' % (100 - puntuacion[1]*100))"
      ],
      "metadata": {
        "colab": {
          "base_uri": "https://localhost:8080/"
        },
        "id": "UAzQfQRYl_Ct",
        "outputId": "f6ce20f1-c5bb-464d-9274-64f9be0c037e"
      },
      "execution_count": null,
      "outputs": [
        {
          "output_type": "stream",
          "name": "stdout",
          "text": [
            "Error del modelo base: 1.34%\n"
          ]
        }
      ]
    }
  ]
}