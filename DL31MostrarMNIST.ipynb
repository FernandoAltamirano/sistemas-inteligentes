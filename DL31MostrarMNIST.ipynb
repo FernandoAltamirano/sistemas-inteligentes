{
  "nbformat": 4,
  "nbformat_minor": 0,
  "metadata": {
    "colab": {
      "name": "DL31MostrarMNIST.ipynb",
      "provenance": [],
      "include_colab_link": true
    },
    "kernelspec": {
      "name": "python3",
      "display_name": "Python 3"
    },
    "language_info": {
      "name": "python"
    }
  },
  "cells": [
    {
      "cell_type": "markdown",
      "metadata": {
        "id": "view-in-github",
        "colab_type": "text"
      },
      "source": [
        "<a href=\"https://colab.research.google.com/github/FernandoAltamirano/sistemas-inteligentes/blob/main/DL31MostrarMNIST.ipynb\" target=\"_parent\"><img src=\"https://colab.research.google.com/assets/colab-badge.svg\" alt=\"Open In Colab\"/></a>"
      ]
    },
    {
      "cell_type": "markdown",
      "source": [
        "# Altamirano Alca Fernando Eli - 18200055"
      ],
      "metadata": {
        "id": "z0pB4qw9VWou"
      }
    },
    {
      "cell_type": "markdown",
      "source": [
        "# Graficar algunas instancias de MNIST"
      ],
      "metadata": {
        "id": "2nWNmAtnYMN-"
      }
    },
    {
      "cell_type": "markdown",
      "source": [
        "Cargar librerías"
      ],
      "metadata": {
        "id": "ic74XYbLYn4W"
      }
    },
    {
      "cell_type": "code",
      "execution_count": 3,
      "metadata": {
        "id": "MoDajv0qXrSe"
      },
      "outputs": [],
      "source": [
        "from keras.datasets import fashion_mnist\n",
        "import matplotlib.pyplot as plt"
      ]
    },
    {
      "cell_type": "markdown",
      "source": [
        "Cargar el conjunto de datos MNIST"
      ],
      "metadata": {
        "id": "9IDCPyEnYx-p"
      }
    },
    {
      "cell_type": "code",
      "source": [
        "(X_train, y_train), (X_test, y_test) = fashion_mnist.load_data()"
      ],
      "metadata": {
        "colab": {
          "base_uri": "https://localhost:8080/"
        },
        "id": "vx_TSRyXY5wG",
        "outputId": "fa24078a-a756-488e-a052-171a4bd9898d"
      },
      "execution_count": 4,
      "outputs": [
        {
          "output_type": "stream",
          "name": "stdout",
          "text": [
            "Downloading data from https://storage.googleapis.com/tensorflow/tf-keras-datasets/train-labels-idx1-ubyte.gz\n",
            "32768/29515 [=================================] - 0s 0us/step\n",
            "40960/29515 [=========================================] - 0s 0us/step\n",
            "Downloading data from https://storage.googleapis.com/tensorflow/tf-keras-datasets/train-images-idx3-ubyte.gz\n",
            "26427392/26421880 [==============================] - 0s 0us/step\n",
            "26435584/26421880 [==============================] - 0s 0us/step\n",
            "Downloading data from https://storage.googleapis.com/tensorflow/tf-keras-datasets/t10k-labels-idx1-ubyte.gz\n",
            "16384/5148 [===============================================================================================] - 0s 0us/step\n",
            "Downloading data from https://storage.googleapis.com/tensorflow/tf-keras-datasets/t10k-images-idx3-ubyte.gz\n",
            "4423680/4422102 [==============================] - 0s 0us/step\n",
            "4431872/4422102 [==============================] - 0s 0us/step\n"
          ]
        }
      ]
    },
    {
      "cell_type": "code",
      "source": [
        "print('Cantidad de imagenes de entrenamiento: %d' % (X_train.shape[0]))\n",
        "print('Altura de imagen: %d píxeles' % (X_train.shape[1]))\n",
        "print('Ancho de imagen: %d píxeles' % (X_train.shape[2]))"
      ],
      "metadata": {
        "colab": {
          "base_uri": "https://localhost:8080/"
        },
        "id": "9D0UeWfQZUjS",
        "outputId": "0b1c0420-8ae8-41e1-f6f1-9b941f9cfe43"
      },
      "execution_count": 5,
      "outputs": [
        {
          "output_type": "stream",
          "name": "stdout",
          "text": [
            "Cantidad de imagenes de entrenamiento: 60000\n",
            "Altura de imagen: 28 píxeles\n",
            "Ancho de imagen: 28 píxeles\n"
          ]
        }
      ]
    },
    {
      "cell_type": "code",
      "source": [
        "print('Cantidad de imagenes de prueba: %d' % (X_test.shape[0]))\n",
        "print('Altura de imagen: %d píxeles' % (X_test.shape[1]))\n",
        "print('Ancho de imagen: %d píxeles' % (X_test.shape[2]))"
      ],
      "metadata": {
        "colab": {
          "base_uri": "https://localhost:8080/"
        },
        "id": "37Ly2m8vZbWS",
        "outputId": "b01247a2-6fe2-4cef-a40b-c550a07433ad"
      },
      "execution_count": 6,
      "outputs": [
        {
          "output_type": "stream",
          "name": "stdout",
          "text": [
            "Cantidad de imagenes de prueba: 10000\n",
            "Altura de imagen: 28 píxeles\n",
            "Ancho de imagen: 28 píxeles\n"
          ]
        }
      ]
    },
    {
      "cell_type": "markdown",
      "source": [
        "Algunas imagenes de entrenamiento en escala de grises"
      ],
      "metadata": {
        "id": "RQnLX9KDaz_q"
      }
    },
    {
      "cell_type": "code",
      "source": [
        "plt.subplot(221)\n",
        "plt.imshow(X_train[0], cmap = plt.get_cmap('gray'))\n",
        "plt.subplot(222)\n",
        "plt.imshow(X_train[1], cmap = plt.get_cmap('gray'))\n",
        "plt.subplot(223)\n",
        "plt.imshow(X_train[2], cmap = plt.get_cmap('gray'))\n",
        "plt.subplot(224)\n",
        "plt.imshow(X_train[3], cmap = plt.get_cmap('gray'))\n",
        "#mostrar la imagen\n",
        "plt.show()"
      ],
      "metadata": {
        "colab": {
          "base_uri": "https://localhost:8080/",
          "height": 268
        },
        "id": "nFDdccW-av-h",
        "outputId": "18b9e225-2eb1-48fd-9edb-972568dfefdf"
      },
      "execution_count": 7,
      "outputs": [
        {
          "output_type": "display_data",
          "data": {
            "text/plain": [
              "<Figure size 432x288 with 4 Axes>"
            ],
            "image/png": "[encoded data removed]"
          },
          "metadata": {
            "needs_background": "light"
          }
        }
      ]
    },
    {
      "cell_type": "code",
      "source": [
        "print(y_train[0])\n",
        "print(y_train[1])\n",
        "print(y_train[2])\n",
        "print(y_train[3])"
      ],
      "metadata": {
        "colab": {
          "base_uri": "https://localhost:8080/"
        },
        "id": "7hmcT0DCcYZ2",
        "outputId": "ce3c3ee2-e87d-4605-f3fe-97a838336953"
      },
      "execution_count": 8,
      "outputs": [
        {
          "output_type": "stream",
          "name": "stdout",
          "text": [
            "9\n",
            "0\n",
            "0\n",
            "3\n"
          ]
        }
      ]
    },
    {
      "cell_type": "markdown",
      "source": [
        "Algunas imagenes de prueba en escala de grises"
      ],
      "metadata": {
        "id": "EItsoJ88cEhJ"
      }
    },
    {
      "cell_type": "code",
      "source": [
        "plt.subplot(221)\n",
        "plt.imshow(X_test[0], cmap = plt.get_cmap('gray'))\n",
        "plt.subplot(222)\n",
        "plt.imshow(X_test[1], cmap = plt.get_cmap('gray'))\n",
        "plt.subplot(223)\n",
        "plt.imshow(X_test[2], cmap = plt.get_cmap('gray'))\n",
        "plt.subplot(224)\n",
        "plt.imshow(X_test[3], cmap = plt.get_cmap('gray'))\n",
        "#mostrar la imagen\n",
        "plt.show()"
      ],
      "metadata": {
        "colab": {
          "base_uri": "https://localhost:8080/",
          "height": 268
        },
        "id": "XjFSWiBTcDf5",
        "outputId": "f5f05a24-06f4-4573-892d-b5fc51c7b639"
      },
      "execution_count": 9,
      "outputs": [
        {
          "output_type": "display_data",
          "data": {
            "text/plain": [
              "<Figure size 432x288 with 4 Axes>"
            ],
            "image/png": "[encoded data removed]"
          },
          "metadata": {
            "needs_background": "light"
          }
        }
      ]
    },
    {
      "cell_type": "code",
      "source": [
        "print(y_test[0])\n",
        "print(y_test[1])\n",
        "print(y_test[2])\n",
        "print(y_test[3])"
      ],
      "metadata": {
        "colab": {
          "base_uri": "https://localhost:8080/"
        },
        "id": "w_UssTZec41c",
        "outputId": "6ec13277-f6b7-488f-afa8-7f448fdd24b2"
      },
      "execution_count": 10,
      "outputs": [
        {
          "output_type": "stream",
          "name": "stdout",
          "text": [
            "9\n",
            "2\n",
            "1\n",
            "1\n"
          ]
        }
      ]
    }
  ]
}